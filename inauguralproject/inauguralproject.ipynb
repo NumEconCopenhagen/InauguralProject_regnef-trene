{
 "cells": [
  {
   "cell_type": "markdown",
   "metadata": {},
   "source": [
    "# Inaugural Project"
   ]
  },
  {
   "cell_type": "markdown",
   "metadata": {},
   "source": [
    "Imports:"
   ]
  },
  {
   "cell_type": "code",
   "execution_count": 10,
   "metadata": {},
   "outputs": [],
   "source": [
    "import numpy as np\n",
    "from scipy import optimize\n",
    "import matplotlib.pyplot as plt"
   ]
  },
  {
   "cell_type": "markdown",
   "metadata": {},
   "source": [
    "# Question 1"
   ]
  },
  {
   "cell_type": "markdown",
   "metadata": {},
   "source": [
    "To create a solution function, we first set up the paramaters as a dictionary and define the utility function."
   ]
  },
  {
   "cell_type": "code",
   "execution_count": 11,
   "metadata": {},
   "outputs": [],
   "source": [
    "# a. Creating dictionary of given parameter\n",
    "par = {\"phi\": 0.3, \"epsilon\": 0.5, \"r\": 0.03, \"taug\": 0.012, \"taup\": 0.004, \"pbar\": 3}\n",
    "\n",
    "# b. Defining the utility-function\n",
    "def u(c, h):\n",
    "    \"\"\" Calculates the utility of the consumer for given consumption of housing and other consumption\n",
    "    \n",
    "    Args:\n",
    "        c (float): consumption of other goods\n",
    "        h (float): consumption of housing\n",
    "    \n",
    "    Returns:\n",
    "        u (float): utility of consumption \n",
    "   \n",
    "   \"\"\"\n",
    "    \n",
    "    return c**(1-par[\"phi\"])*h**par[\"phi\"]"
   ]
  },
  {
   "cell_type": "markdown",
   "metadata": {},
   "source": [
    "We then define a cost function for housing consumption, depending on the chosen paramaters."
   ]
  },
  {
   "cell_type": "code",
   "execution_count": 12,
   "metadata": {},
   "outputs": [],
   "source": [
    "def tau(h, parset):\n",
    "    \"\"\" Calculates the costs for given level of housing consumptions and parameters\"\"\"\n",
    "    \n",
    "    return parset[\"r\"]*h+parset[\"taug\"]*h*parset[\"epsilon\"]+parset[\"taup\"]*max(h*parset[\"epsilon\"]-parset[\"pbar\"],0)"
   ]
  },
  {
   "cell_type": "markdown",
   "metadata": {},
   "source": [
    "To optimize utility, given a specific income level and parameter set, we use the monotonicity quality of the Cobb-Douglas utility function (i.e. all income is spent in optimum, $m-\\tau(p_h, \\tilde{p}_h)-c=0)$ This allows us to set up a scalar solver, now that utility only depends on one variable."
   ]
  },
  {
   "cell_type": "code",
   "execution_count": 13,
   "metadata": {},
   "outputs": [],
   "source": [
    "# a. Negative utility\n",
    "def negconsutil(h, m, parset):\n",
    "    \"\"\" Return negative utility as a function of income, housing and parameters\"\"\"\n",
    "    \n",
    "    #i. other consumption as a function of income and housing\n",
    "    c = m-tau(h, parset)\n",
    "    \n",
    "    #ii. negative utility\n",
    "    return -u(c, h)\n",
    "\n",
    "# b. Creating solver\n",
    "def solve(m, parset):\n",
    "    \"\"\" Solves the consumers utility maximization problem\"\"\"\n",
    "    \n",
    "    #i. solving\n",
    "    sol_cons = optimize.minimize_scalar(negconsutil, args=(m, parset))\n",
    "    \n",
    "    #ii. saving\n",
    "    h = sol_cons.x\n",
    "    c = m-tau(h, parset)\n",
    "    util = u(c, h)\n",
    "    \n",
    "    return h, c, util"
   ]
  },
  {
   "cell_type": "markdown",
   "metadata": {},
   "source": [
    "Solving for an income $m=0.5$ and the given parameter values, we get"
   ]
  },
  {
   "cell_type": "code",
   "execution_count": 14,
   "metadata": {},
   "outputs": [
    {
     "data": {
      "text/plain": [
       "(4.1666666039527485, 0.35000000225770106, 0.7358414678061572)"
      ]
     },
     "execution_count": 14,
     "metadata": {},
     "output_type": "execute_result"
    }
   ],
   "source": [
    "solve(0.5, par)"
   ]
  },
  {
   "cell_type": "markdown",
   "metadata": {},
   "source": [
    "I.e. the optimal consumption bundle consists of $h^*=4.17$ and $c^*=0.35$, so that the optimal utility level is $u=0.74$."
   ]
  },
  {
   "cell_type": "markdown",
   "metadata": {},
   "source": [
    "# Question 2"
   ]
  },
  {
   "cell_type": "markdown",
   "metadata": {},
   "source": [
    "To begin with, we set up 1,000 different income levels in the given interval and calculate their respective optimal consumption bundles.  "
   ]
  },
  {
   "cell_type": "code",
   "execution_count": 15,
   "metadata": {},
   "outputs": [],
   "source": [
    "# a. Number of observations\n",
    "N=1000\n",
    "\n",
    "# b. Empty lists\n",
    "c_values = []\n",
    "h_values = []\n",
    "m_values = []\n",
    "\n",
    "# c. optimal consumption over income distribution\n",
    "for i in np.linspace(0.4,2.5,N):\n",
    "    a_i = solve(i, par)\n",
    "    c_values.append(a_i[1])\n",
    "    h_values.append(a_i[0])\n",
    "    m_values.append(i)"
   ]
  },
  {
   "cell_type": "markdown",
   "metadata": {},
   "source": [
    "From this, we plot the different optiomal consumption levels of housing, resp. consumption, against income."
   ]
  },
  {
   "cell_type": "code",
   "execution_count": 17,
   "metadata": {},
   "outputs": [
    {
     "data": {
      "image/png": "[encoded data removed]",
      "text/plain": [
       "<Figure size 720x288 with 2 Axes>"
      ]
     },
     "metadata": {},
     "output_type": "display_data"
    }
   ],
   "source": [
    "plt.style.use(\"seaborn-whitegrid\")\n",
    "\n",
    "# a. create the figure\n",
    "fig = plt.figure(figsize=(10,4))\n",
    "\n",
    "# b. left plot\n",
    "ax_left = fig.add_subplot(1,2,1)\n",
    "\n",
    "ax_left.plot(m_values,h_values)\n",
    "\n",
    "ax_left.set_title('Housing consumption')\n",
    "ax_left.set_xlabel('Income, m')\n",
    "ax_left.set_ylabel('Housing')\n",
    "ax_left.grid(True)\n",
    "\n",
    "# c. right plot\n",
    "ax_right = fig.add_subplot(1,2,2)\n",
    "\n",
    "ax_right.plot(m_values,c_values)\n",
    "\n",
    "ax_right.set_title('Other consumption')\n",
    "ax_right.set_xlabel('Income, m')\n",
    "ax_right.set_ylabel('Consumption')\n",
    "ax_right.grid(True)"
   ]
  },
  {
   "cell_type": "markdown",
   "metadata": {},
   "source": [
    "This gives us the two Engel curves, illustrated in the figures above. Here we note the plateu in housing consumption around $h=6$, where public assesment reaches $\\tilde{p}_h=3$, thus activating the progressive tax. More on this in question 3."
   ]
  },
  {
   "cell_type": "markdown",
   "metadata": {},
   "source": [
    "# Question 3"
   ]
  },
  {
   "cell_type": "code",
   "execution_count": 23,
   "metadata": {},
   "outputs": [],
   "source": [
    "np.random.seed(1)"
   ]
  },
  {
   "cell_type": "markdown",
   "metadata": {},
   "source": [
    "We simulate 10.000 draws from a lognormal distribution (and illustrate them for good measure):"
   ]
  },
  {
   "cell_type": "code",
   "execution_count": 24,
   "metadata": {},
   "outputs": [
    {
     "data": {
      "image/png": "[encoded data removed]",
      "text/plain": [
       "<Figure size 600x400 with 1 Axes>"
      ]
     },
     "metadata": {},
     "output_type": "display_data"
    }
   ],
   "source": [
    "# a. creating income distribution\n",
    "m_rand = np.random.lognormal(-0.4,0.35, size=10000)\n",
    "\n",
    "# b. histogram\n",
    "fig = plt.figure(dpi=100)\n",
    "ax = fig.add_subplot(1,1,1)\n",
    "ax.hist(m_rand,bins=100,label='m_rand')\n",
    "_junk = ax.hist(m_rand, bins=100)"
   ]
  },
  {
   "cell_type": "markdown",
   "metadata": {},
   "source": [
    "We then optimize each of the 10.000 households' housing consumption, using our solver in a for loop, and plot them in a histogram."
   ]
  },
  {
   "cell_type": "code",
   "execution_count": 25,
   "metadata": {},
   "outputs": [
    {
     "data": {
      "image/png": "[encoded data removed]",
      "text/plain": [
       "<Figure size 600x400 with 1 Axes>"
      ]
     },
     "metadata": {},
     "output_type": "display_data"
    }
   ],
   "source": [
    "h_opt=np.empty(10000)\n",
    "\n",
    "# a. solve for every income level\n",
    "for i, m in enumerate(m_rand):\n",
    "    h_i = solve(m, par)\n",
    "    h_opt[i]= h_i[0]\n",
    "\n",
    "# b. plotting solution\n",
    "fig = plt.figure(dpi=100)\n",
    "ax = fig.add_subplot(1,1,1)\n",
    "ax.hist(h_opt,bins=100,density=True,label='m_rand')\n",
    "_junk = ax.hist(h_opt, bins=100)"
   ]
  },
  {
   "cell_type": "markdown",
   "metadata": {},
   "source": [
    "Here we note, that a unusually large amount of households choose to optimize at $p_h=h=6$. This is due to the fact, that at this point the public assesment becomes $\\tilde{p}_h=3$, which is where the progressive tax kicks in. Therefore, which we also see in our Engel curves, there will be an income span, where optimal housing consumption doesn't increase with the income, but instead remains at the threshold point $h=6$. "
   ]
  },
  {
   "cell_type": "markdown",
   "metadata": {},
   "source": [
    "We can now, finally, calculate the average collected tax revenue. This we do by creating a function for the tax collected from each household, given their choice of consumption based on the parameter values, and then calculating the average."
   ]
  },
  {
   "cell_type": "code",
   "execution_count": 26,
   "metadata": {},
   "outputs": [
    {
     "data": {
      "text/plain": [
       "0.03632680342536602"
      ]
     },
     "execution_count": 26,
     "metadata": {},
     "output_type": "execute_result"
    }
   ],
   "source": [
    "# a. tax collected\n",
    "def taxcol(h, parset):\n",
    "    \"\"\"returns the taxrevenue for given level of housing consumption \"\"\"\n",
    "    \n",
    "    return parset[\"taug\"]*h*parset[\"epsilon\"]+parset[\"taup\"]*max(h*parset[\"epsilon\"]-parset[\"pbar\"],0)\n",
    "\n",
    "# b. average tax burden\n",
    "def avgtax(h_list, parset, N=10000):\n",
    "    \"\"\"returns the average tax burden pr. households\"\"\"\n",
    "    \n",
    "    #i. creating variable\n",
    "    taxrev = 0.0\n",
    "    \n",
    "    #ii. solving for each household\n",
    "    for h in h_list: \n",
    "        taxrev+=taxcol(h, parset)\n",
    "    return taxrev/N   \n",
    "\n",
    "# c. solving for calculated optimal consumption\n",
    "avgtax(h_opt, par)"
   ]
  },
  {
   "cell_type": "markdown",
   "metadata": {},
   "source": [
    "The average tax burden pr. household is then 36,327DKK. "
   ]
  },
  {
   "cell_type": "markdown",
   "metadata": {},
   "source": [
    "# Question 4"
   ]
  },
  {
   "cell_type": "markdown",
   "metadata": {},
   "source": [
    "We set up our new parameter set and re-calculate the optimal housing consumption for our simulated households, once again plotting the results in a histogram."
   ]
  },
  {
   "cell_type": "code",
   "execution_count": 28,
   "metadata": {},
   "outputs": [
    {
     "data": {
      "image/png": "[encoded data removed]",
      "text/plain": [
       "<Figure size 600x400 with 1 Axes>"
      ]
     },
     "metadata": {},
     "output_type": "display_data"
    }
   ],
   "source": [
    "# a. new parameters\n",
    "par2 = {\"phi\": 0.3, \"epsilon\": 0.8, \"r\": 0.03, \"taug\": 0.01, \"taup\": 0.009, \"pbar\": 8}\n",
    "\n",
    "# b. solving for optimal consumption\n",
    "h_opt2=np.empty(10000)\n",
    "\n",
    "for i, m in enumerate(m_rand):\n",
    "    h_i = solve(m, par2)\n",
    "    h_opt2[i]= h_i[0]\n",
    "\n",
    "# c. plotting distribution of consumption\n",
    "fig = plt.figure(dpi=100)\n",
    "ax = fig.add_subplot(1,1,1)\n",
    "ax.hist(h_opt2,bins=100,density=True,label='m_rand')\n",
    "_junk = ax.hist(h_opt2, bins=100)\n"
   ]
  },
  {
   "cell_type": "markdown",
   "metadata": {},
   "source": [
    "We note, that the housing consumption plateu is now located at the new progressive tax threshold: \n",
    "$$\\varepsilon h-\\bar{p}=0.8\\cdot h-8\\Leftrightarrow h=10$$"
   ]
  },
  {
   "cell_type": "markdown",
   "metadata": {},
   "source": [
    "The average tax burden is now"
   ]
  },
  {
   "cell_type": "code",
   "execution_count": 29,
   "metadata": {},
   "outputs": [
    {
     "data": {
      "text/plain": [
       "0.04503629313721809"
      ]
     },
     "execution_count": 29,
     "metadata": {},
     "output_type": "execute_result"
    }
   ],
   "source": [
    "avgtax(h_opt2, par2)"
   ]
  },
  {
   "cell_type": "markdown",
   "metadata": {},
   "source": [
    "Or, in words, 45,036DKK pr. household."
   ]
  },
  {
   "cell_type": "markdown",
   "metadata": {},
   "source": [
    "# Question 5"
   ]
  },
  {
   "cell_type": "markdown",
   "metadata": {},
   "source": [
    "We now redo the household simulation with fewer draws, so as to make the calculations feasible for our computer. "
   ]
  },
  {
   "cell_type": "code",
   "execution_count": 33,
   "metadata": {},
   "outputs": [],
   "source": [
    "# a. set seed\n",
    "np.random.seed(1)\n",
    "\n",
    "# b. create income distribution\n",
    "m_rand2 = np.random.lognormal(-0.4,0.35, size=1000)"
   ]
  },
  {
   "cell_type": "markdown",
   "metadata": {},
   "source": [
    "From this we create a for loop, going thorugh a fine-meshed range of possible $\\tau^g$'s, resetting the paramater values each time. For each of these loops, the 1,000 simulated households will optimize under the given conditions, paying a sepcific average tax. We then use this to see, which tax level results in an (almost) identical average tax burden. "
   ]
  },
  {
   "cell_type": "code",
   "execution_count": 34,
   "metadata": {},
   "outputs": [],
   "source": [
    "# a. unchanged average tax payment\n",
    "for taug in np.linspace(0,0.01,100):\n",
    "    par_taug = {\"phi\": 0.3, \"epsilon\": 0.8, \"r\": 0.03, \"taug\": taug, \"taup\": 0.009, \"pbar\": 8}\n",
    "    h_taug = np.empty(1000)\n",
    "    #i. optimal consumption with new parameters\n",
    "    for i, m in enumerate(m_rand2):\n",
    "        h_i = solve(m, par_taug)\n",
    "        h_taug[i] = h_i[0]\n",
    "    #ii. taug that meets requirements\n",
    "    if abs(avgtax(h_taug, par_taug)-avgtax(h_opt, par))<0.0001:\n",
    "        print(taug)"
   ]
  },
  {
   "cell_type": "markdown",
   "metadata": {},
   "source": [
    "Thus, we get that $\\tau^g$ should be lowered to be around $.74$%."
   ]
  },
  {
   "cell_type": "markdown",
   "metadata": {},
   "source": [
    "# Conclusion"
   ]
  },
  {
   "cell_type": "markdown",
   "metadata": {},
   "source": [
    "In this project we have defined a function, which solves the consumer maximization problem, indicated by the model we where given. \n",
    "\n",
    "We have investigated, how the distribution of consumption on housing will look like, when assuming a given lognormal income distribution. Not suprisingly, we found that the distribution of housing is affected by the progressive housing tax, meaning the many households will choose a optimal housing consumption just below the cutoff value. \n",
    "\n",
    "Given this distribution of consumption we have calculated the average tax payment per household. We have also investaged what level of base housing tax will make sure that the average home owner does not pay more in taxes, when the policy makers seem to be interested in taxing high-income home owners harder. "
   ]
  }
 ],
 "metadata": {
  "kernelspec": {
   "display_name": "Python 3",
   "language": "python",
   "name": "python3"
  },
  "language_info": {
   "codemirror_mode": {
    "name": "ipython",
    "version": 3
   },
   "file_extension": ".py",
   "mimetype": "text/x-python",
   "name": "python",
   "nbconvert_exporter": "python",
   "pygments_lexer": "ipython3",
   "version": "3.8.5"
  },
  "toc-autonumbering": true
 },
 "nbformat": 4,
 "nbformat_minor": 4
}
